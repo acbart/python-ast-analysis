{
 "cells": [
  {
   "cell_type": "markdown",
   "metadata": {
    "deletable": false
   },
   "source": [
    "# Introduction\n",
    "\n",
    "This Notebook retrieves the top 360 repositories off of PyPi in order to analyze their parse trees. I perform some simple statistical analysis with Pandas near the end to answer some question that had been bothering me. The main one is, \"Do we use more `for` loops or `while` loops in Python?\n",
    "\n",
    "Since we're going with the top 360 repositories, we're not really getting a high percentage of the total Python code in the world. Further, we're getting a biased subset since these will be libraries, which will have a different style to them than most of the code out there. There's further bias since these will be *popular* libraries, which means you might expect them to have better code than average.\n",
    "\n",
    "My analysis is not perfect - it simply downloads the source code from PyPi as best it can, and then looks for any valid, parseable file that ends in a `.py` extension. I haven't looked to see how many potential files it rejects for invalid characters/syntax/etc. The extent of my analysis is also quite simplistic: I end up with the raw frequency of each type of AST element (e.g., `Assign`, `FunctionDef`, or `Name` nodes) across all the files. It would be relatively easy to extend my analysis further to do more analysis on a per-package or per-file basis."
   ]
  },
  {
   "cell_type": "markdown",
   "metadata": {
    "deletable": false
   },
   "source": [
    "# Imports"
   ]
  },
  {
   "cell_type": "code",
   "execution_count": 37,
   "metadata": {
    "deletable": false
   },
   "outputs": [],
   "source": [
    "import sys\n",
    "import os\n",
    "import json\n",
    "import random\n",
    "import subprocess\n",
    "import ast\n",
    "from pprint import pprint\n",
    "from zipfile import ZipFile, BadZipFile\n",
    "import tarfile\n",
    "from collections import Counter\n",
    "import pandas as pd\n",
    "import numpy as np\n",
    "import matplotlib.pyplot as plt\n",
    "import scipy.stats as st\n",
    "import requests\n",
    "from bs4 import BeautifulSoup\n",
    "\n",
    "# Optionally have a progress bar\n",
    "try:\n",
    "    from tqdm import tqdm, tqdm_notebook\n",
    "except:\n",
    "    tqdm = list\n",
    "    tqdm_notebook= list\n",
    "    \n",
    "# Optionally have a cache in case you are interrupted\n",
    "try:\n",
    "    import requests_cache\n",
    "    requests_cache.install_cache('python_asts')\n",
    "except:\n",
    "    pass"
   ]
  },
  {
   "cell_type": "markdown",
   "metadata": {
    "deletable": false
   },
   "source": [
    "# Configuration options"
   ]
  },
  {
   "cell_type": "code",
   "execution_count": 92,
   "metadata": {
    "deletable": false
   },
   "outputs": [],
   "source": [
    "temp_package_folder = os.path.join(os.getcwd(), 'packages')"
   ]
  },
  {
   "cell_type": "markdown",
   "metadata": {
    "deletable": false
   },
   "source": [
    "# Retrieve Packages\n",
    "\n",
    "Using a list of popular Python packages, we will download them using Pip.\n",
    "\n",
    "The packages (wheels and tar.gz files) will be stored in a `packages/` directory.\n",
    "\n",
    "This can take a little while."
   ]
  },
  {
   "cell_type": "code",
   "execution_count": null,
   "metadata": {
    "deletable": false
   },
   "outputs": [],
   "source": [
    "# Load names\n",
    "with open('popular_names.json', 'r') as popular_names_file:\n",
    "    package_names = json.load(popular_names_file)\n",
    "\n",
    "# Download packages using Pip\n",
    "# Warning, takes a while\n",
    "for package_name in tqdm_notebook(package_names):\n",
    "    commands = [sys.executable, '-m', \n",
    "                # Actually download the package\n",
    "                'pip', 'download', package_name,\n",
    "                # Just the source code, nothing else\n",
    "                \"--no-deps\", \"--no-binary\",\n",
    "                # Only Python 3\n",
    "                \"--python-version\", \"3\", \n",
    "                # Only Pure Python\n",
    "                \"--implementation\", \"pp\",\n",
    "                # Store locally, easier to delete afterwards\n",
    "                \"--dest\", temp_package_folder]\n",
    "    try:\n",
    "        subprocess.check_call(commands)\n",
    "    except subprocess.CalledProcessError as e:\n",
    "        print(\"Package failed:\", package_name, \"\\n\", e)"
   ]
  },
  {
   "cell_type": "markdown",
   "metadata": {
    "deletable": false
   },
   "source": [
    "# Process Packages\n",
    "\n",
    "Process the packages by loading each one in turn"
   ]
  },
  {
   "cell_type": "code",
   "execution_count": 39,
   "metadata": {
    "deletable": false
   },
   "outputs": [],
   "source": [
    "class AstCounter(ast.NodeVisitor):\n",
    "    '''\n",
    "    Simple class for traversing ASTs and recording\n",
    "    the different types of nodes we encounter.\n",
    "    '''\n",
    "    def __init__(self):\n",
    "        self.elements = Counter()\n",
    "    def generic_visit(self, node):\n",
    "        '''\n",
    "        Consumes an AST node, counts it, and then checks its children.\n",
    "        '''\n",
    "        name = type(node).__name__\n",
    "        self.elements[name] += 1\n",
    "        ast.NodeVisitor.generic_visit(self, node)\n",
    "    def parse_file(self, python_file):\n",
    "        '''\n",
    "        Parse and count the elements of a python program.\n",
    "        \n",
    "        Returns nothing if it fails - e.g., because there was a Null Byte in the\n",
    "        string or the file was not a parseable Python program.\n",
    "        \n",
    "        Args:\n",
    "            python_file (str): The contents of a python program (note the filename).\n",
    "        '''\n",
    "        try:\n",
    "            parsed = ast.parse(python_file)\n",
    "        except SyntaxError:\n",
    "            return None\n",
    "        except ValueError:\n",
    "            return None\n",
    "        self.visit(parsed)"
   ]
  },
  {
   "cell_type": "code",
   "execution_count": 5,
   "metadata": {
    "deletable": false
   },
   "outputs": [],
   "source": [
    "class PackageException(Exception):\n",
    "    pass\n",
    "\n",
    "def process_tar(package_path):\n",
    "    try:\n",
    "        tarred_package = tarfile.open(package_path)\n",
    "    except tarfile.TarError:\n",
    "        raise PackageException()\n",
    "    for member in tarred_package.getmembers():\n",
    "        if member.name.endswith('.py'):\n",
    "            try:\n",
    "                contents = tarred_package.extractfile(member).read()\n",
    "            except KeyError:\n",
    "                continue\n",
    "            yield (member.name, contents)\n",
    "\n",
    "def process_zip(package_path):\n",
    "    try:\n",
    "        zipped_package = ZipFile(package_path)\n",
    "    except BadZipFile:\n",
    "        raise PackageException()\n",
    "    for inner_filename in zipped_package.namelist():\n",
    "        if inner_filename.endswith('.py'):\n",
    "            with zipped_package.open(inner_filename) as python_file:\n",
    "                yield (inner_filename, python_file.read())\n",
    "\n",
    "process_dispatcher = {\n",
    "    'whl': process_zip,\n",
    "    'bz2': process_tar,\n",
    "    '.gz': process_tar,\n",
    "    'tgz': process_tar,\n",
    "    'zip': process_zip,\n",
    "}"
   ]
  },
  {
   "cell_type": "markdown",
   "metadata": {
    "deletable": false
   },
   "source": [
    "The following code actually iterates through the packages and parses\n",
    "their contents. This can take a little while (about 4 minutes on my machine), so I've added a progress bar."
   ]
  },
  {
   "cell_type": "code",
   "execution_count": 40,
   "metadata": {
    "deletable": false
   },
   "outputs": [
    {
     "data": {
      "application/vnd.jupyter.widget-view+json": {
       "model_id": "5d09a58bda054efa9a3ab5a69b7d2b85",
       "version_major": 2,
       "version_minor": 0
      },
      "text/html": [
       "<p>Failed to display Jupyter Widget of type <code>HBox</code>.</p>\n",
       "<p>\n",
       "  If you're reading this message in the Jupyter Notebook or JupyterLab Notebook, it may mean\n",
       "  that the widgets JavaScript is still loading. If this message persists, it\n",
       "  likely means that the widgets JavaScript library is either not installed or\n",
       "  not enabled. See the <a href=\"https://ipywidgets.readthedocs.io/en/stable/user_install.html\">Jupyter\n",
       "  Widgets Documentation</a> for setup instructions.\n",
       "</p>\n",
       "<p>\n",
       "  If you're reading this message in another frontend (for example, a static\n",
       "  rendering on GitHub or <a href=\"https://nbviewer.jupyter.org/\">NBViewer</a>),\n",
       "  it may mean that your frontend doesn't currently support widgets.\n",
       "</p>\n"
      ],
      "text/plain": [
       "HBox(children=(IntProgress(value=0, max=359), HTML(value='')))"
      ]
     },
     "metadata": {},
     "output_type": "display_data"
    },
    {
     "name": "stdout",
     "output_type": "stream",
     "text": [
      "\n"
     ]
    }
   ],
   "source": [
    "counter = AstCounter()\n",
    "packages = os.listdir(temp_package_folder)\n",
    "\n",
    "progress_bar = tqdm_notebook(packages)\n",
    "\n",
    "# Walk through all the packages on disk\n",
    "for package_filename in progress_bar:\n",
    "    if tqdm_notebook is not list:\n",
    "        progress_bar.set_description(package_filename)\n",
    "    package_path = os.path.join(temp_package_folder, package_filename)\n",
    "    # Try to extract the python files\n",
    "    try:\n",
    "        python_files = process_dispatcher[package_path[-3:]](package_path)\n",
    "    except PackageException:\n",
    "        print(\"Bad package (skipping):\", package_filename)\n",
    "        print(\"\\tPath:\", package_path)\n",
    "        continue\n",
    "    # Parse each file for its AST\n",
    "    for python_filename, python_file in python_files:\n",
    "        counter.parse_file(python_file)"
   ]
  },
  {
   "cell_type": "markdown",
   "metadata": {
    "deletable": false
   },
   "source": [
    "# Analyze Results\n",
    "\n",
    "Load the data into a Pandas DataFrame and calculate some statistics (the ratio of elements)."
   ]
  },
  {
   "cell_type": "code",
   "execution_count": 41,
   "metadata": {
    "deletable": false
   },
   "outputs": [],
   "source": [
    "df = pd.DataFrame.from_dict(counter.elements, orient='index')\n",
    "df.columns = ['Frequency']\n",
    "df = df.sort_values(by='Frequency', ascending=False)\n",
    "df['%'] = ((df.Frequency / df.Frequency.sum()) * 100).round(2)"
   ]
  },
  {
   "cell_type": "markdown",
   "metadata": {
    "deletable": false
   },
   "source": [
    "Let's look at the top 10 elements. As you might expected, the top few slots are all dominated by variable and attribute access, followed by function calls. I suppose I shouldn't be surprised that string literals outnumber numeric literals, given how their used in documentation within Python. Also unsurprising is that Assignment is the most popular statement."
   ]
  },
  {
   "cell_type": "code",
   "execution_count": 50,
   "metadata": {
    "deletable": false
   },
   "outputs": [
    {
     "data": {
      "text/html": [
       "<div>\n",
       "<style scoped>\n",
       "    .dataframe tbody tr th:only-of-type {\n",
       "        vertical-align: middle;\n",
       "    }\n",
       "\n",
       "    .dataframe tbody tr th {\n",
       "        vertical-align: top;\n",
       "    }\n",
       "\n",
       "    .dataframe thead th {\n",
       "        text-align: right;\n",
       "    }\n",
       "</style>\n",
       "<table border=\"1\" class=\"dataframe\">\n",
       "  <thead>\n",
       "    <tr style=\"text-align: right;\">\n",
       "      <th></th>\n",
       "      <th>Frequency</th>\n",
       "      <th>%</th>\n",
       "    </tr>\n",
       "  </thead>\n",
       "  <tbody>\n",
       "    <tr>\n",
       "      <th>Load</th>\n",
       "      <td>7862948</td>\n",
       "      <td>25.52</td>\n",
       "    </tr>\n",
       "    <tr>\n",
       "      <th>Name</th>\n",
       "      <td>5989398</td>\n",
       "      <td>19.44</td>\n",
       "    </tr>\n",
       "    <tr>\n",
       "      <th>Attribute</th>\n",
       "      <td>2393232</td>\n",
       "      <td>7.77</td>\n",
       "    </tr>\n",
       "    <tr>\n",
       "      <th>Call</th>\n",
       "      <td>1956344</td>\n",
       "      <td>6.35</td>\n",
       "    </tr>\n",
       "    <tr>\n",
       "      <th>Str</th>\n",
       "      <td>1811482</td>\n",
       "      <td>5.88</td>\n",
       "    </tr>\n",
       "    <tr>\n",
       "      <th>Store</th>\n",
       "      <td>1355253</td>\n",
       "      <td>4.40</td>\n",
       "    </tr>\n",
       "    <tr>\n",
       "      <th>Num</th>\n",
       "      <td>1207683</td>\n",
       "      <td>3.92</td>\n",
       "    </tr>\n",
       "    <tr>\n",
       "      <th>Assign</th>\n",
       "      <td>1071627</td>\n",
       "      <td>3.48</td>\n",
       "    </tr>\n",
       "    <tr>\n",
       "      <th>Expr</th>\n",
       "      <td>740525</td>\n",
       "      <td>2.40</td>\n",
       "    </tr>\n",
       "    <tr>\n",
       "      <th>arg</th>\n",
       "      <td>675312</td>\n",
       "      <td>2.19</td>\n",
       "    </tr>\n",
       "  </tbody>\n",
       "</table>\n",
       "</div>"
      ],
      "text/plain": [
       "           Frequency      %\n",
       "Load         7862948  25.52\n",
       "Name         5989398  19.44\n",
       "Attribute    2393232   7.77\n",
       "Call         1956344   6.35\n",
       "Str          1811482   5.88\n",
       "Store        1355253   4.40\n",
       "Num          1207683   3.92\n",
       "Assign       1071627   3.48\n",
       "Expr          740525   2.40\n",
       "arg           675312   2.19"
      ]
     },
     "execution_count": 50,
     "metadata": {},
     "output_type": "execute_result"
    }
   ],
   "source": [
    "df.head(10)"
   ]
  },
  {
   "cell_type": "markdown",
   "metadata": {
    "deletable": false
   },
   "source": [
    "The least common elements reflect new Python features: asynchronous keywords and the nonlocal modifier. I do find it interesting that dictionary and set comprehensions are so rare, but I am not at all surprised that Ellipsis and the unary addition operator have little presence. I wonder how many of those UAdd are just plain mistakes?"
   ]
  },
  {
   "cell_type": "code",
   "execution_count": 52,
   "metadata": {
    "deletable": false
   },
   "outputs": [
    {
     "data": {
      "text/html": [
       "<div>\n",
       "<style scoped>\n",
       "    .dataframe tbody tr th:only-of-type {\n",
       "        vertical-align: middle;\n",
       "    }\n",
       "\n",
       "    .dataframe tbody tr th {\n",
       "        vertical-align: top;\n",
       "    }\n",
       "\n",
       "    .dataframe thead th {\n",
       "        text-align: right;\n",
       "    }\n",
       "</style>\n",
       "<table border=\"1\" class=\"dataframe\">\n",
       "  <thead>\n",
       "    <tr style=\"text-align: right;\">\n",
       "      <th></th>\n",
       "      <th>Frequency</th>\n",
       "      <th>%</th>\n",
       "    </tr>\n",
       "  </thead>\n",
       "  <tbody>\n",
       "    <tr>\n",
       "      <th>DictComp</th>\n",
       "      <td>777</td>\n",
       "      <td>0.0</td>\n",
       "    </tr>\n",
       "    <tr>\n",
       "      <th>Ellipsis</th>\n",
       "      <td>600</td>\n",
       "      <td>0.0</td>\n",
       "    </tr>\n",
       "    <tr>\n",
       "      <th>UAdd</th>\n",
       "      <td>374</td>\n",
       "      <td>0.0</td>\n",
       "    </tr>\n",
       "    <tr>\n",
       "      <th>SetComp</th>\n",
       "      <td>321</td>\n",
       "      <td>0.0</td>\n",
       "    </tr>\n",
       "    <tr>\n",
       "      <th>YieldFrom</th>\n",
       "      <td>187</td>\n",
       "      <td>0.0</td>\n",
       "    </tr>\n",
       "    <tr>\n",
       "      <th>Await</th>\n",
       "      <td>180</td>\n",
       "      <td>0.0</td>\n",
       "    </tr>\n",
       "    <tr>\n",
       "      <th>AsyncFunctionDef</th>\n",
       "      <td>136</td>\n",
       "      <td>0.0</td>\n",
       "    </tr>\n",
       "    <tr>\n",
       "      <th>Nonlocal</th>\n",
       "      <td>54</td>\n",
       "      <td>0.0</td>\n",
       "    </tr>\n",
       "    <tr>\n",
       "      <th>AsyncFor</th>\n",
       "      <td>13</td>\n",
       "      <td>0.0</td>\n",
       "    </tr>\n",
       "    <tr>\n",
       "      <th>AsyncWith</th>\n",
       "      <td>10</td>\n",
       "      <td>0.0</td>\n",
       "    </tr>\n",
       "  </tbody>\n",
       "</table>\n",
       "</div>"
      ],
      "text/plain": [
       "                  Frequency    %\n",
       "DictComp                777  0.0\n",
       "Ellipsis                600  0.0\n",
       "UAdd                    374  0.0\n",
       "SetComp                 321  0.0\n",
       "YieldFrom               187  0.0\n",
       "Await                   180  0.0\n",
       "AsyncFunctionDef        136  0.0\n",
       "Nonlocal                 54  0.0\n",
       "AsyncFor                 13  0.0\n",
       "AsyncWith                10  0.0"
      ]
     },
     "execution_count": 52,
     "metadata": {},
     "output_type": "execute_result"
    }
   ],
   "source": [
    "df.tail(10)"
   ]
  },
  {
   "cell_type": "markdown",
   "metadata": {
    "deletable": false
   },
   "source": [
    "## Specific Questions\n",
    "\n",
    "This was all triggered by my curiousity about a few specific questions.\n",
    "\n",
    "### For vs. While\n",
    "\n",
    "First of all, is it true that `for` loops are much more common than `while` loops in Python? Yes!"
   ]
  },
  {
   "cell_type": "code",
   "execution_count": 24,
   "metadata": {
    "deletable": false
   },
   "outputs": [
    {
     "name": "stdout",
     "output_type": "stream",
     "text": [
      "For loop: 68022\n",
      "While loop: 7110\n",
      "There are about 10 times as many FOR loops as WHILE loops.\n"
     ]
    }
   ],
   "source": [
    "fors = df.loc['For'].Frequency.astype(int)\n",
    "whiles = df.loc['While'].Frequency.astype(int)\n",
    "print(\"For loop:\", fors)\n",
    "print(\"While loop:\", whiles)\n",
    "print(\"There are about\", int(round(fors/whiles)), \"times as many FOR loops as WHILE loops.\")"
   ]
  },
  {
   "cell_type": "markdown",
   "metadata": {
    "deletable": false
   },
   "source": [
    "### 2. Global\n",
    "\n",
    "How often are people using the global keyword? Almost never - as it should be!"
   ]
  },
  {
   "cell_type": "code",
   "execution_count": 29,
   "metadata": {
    "deletable": false
   },
   "outputs": [
    {
     "name": "stdout",
     "output_type": "stream",
     "text": [
      "Frequency: 1200\n",
      "% (rounded): 0.0\n"
     ]
    }
   ],
   "source": [
    "print(\"Frequency:\", df.loc['Global']['Frequency'].astype(int))\n",
    "print(\"% (rounded):\", df.loc['Global']['%'])"
   ]
  },
  {
   "cell_type": "markdown",
   "metadata": {
    "deletable": false
   },
   "source": [
    "### 3. Elements per Module\n",
    "\n",
    "The Module element will give us a good estimate of the number of Python files we processed. This can give us some basic descriptive statistics. Unfortunately, it's only a rough average - we know nothing about the distribution from this analysis, which I would suspect has a long tail."
   ]
  },
  {
   "cell_type": "code",
   "execution_count": 36,
   "metadata": {
    "deletable": false
   },
   "outputs": [
    {
     "name": "stdout",
     "output_type": "stream",
     "text": [
      "Average elements per module: 1148\n"
     ]
    }
   ],
   "source": [
    "modules = df.loc['Module'].Frequency.astype(int)\n",
    "\n",
    "average_elements_per_module = int(round(df.Frequency.sum() / modules))\n",
    "\n",
    "print(\"Average elements per module:\", average_elements_per_module)"
   ]
  },
  {
   "cell_type": "markdown",
   "metadata": {
    "deletable": false
   },
   "source": [
    "### 4. Distribution of Element Frequencies\n",
    "\n",
    "The range of elements is pretty wide - to visualize this, I've constructed the histogram below. The X-axis has various frequency counts of AST elements, and the Y-axis is the number of elements that occur with that frequency.\n",
    "\n",
    "Note that the X-axis has been scaled logarithmically (base 10). So the modal value is between 10,000-100,000, which is a pretty massive range. The long tail of the unskewed graph is pretty overwhelming. Still, I never stop being surprised at how often a normal distribution occurs in the wild, even if some light transformations were required to get there.\n",
    "\n",
    "There's not much to take away from this graph: elements have a lot of diversity in their frequency."
   ]
  },
  {
   "cell_type": "code",
   "execution_count": 90,
   "metadata": {
    "deletable": false
   },
   "outputs": [
    {
     "data": {
      "image/png": "[encoded data removed]",
      "text/plain": [
       "<matplotlib.figure.Figure at 0x136d6292b00>"
      ]
     },
     "metadata": {},
     "output_type": "display_data"
    }
   ],
   "source": [
    "plt.hist(np.log10(df.Frequency))\n",
    "plt.title(\"Logarithmic Distribution of Element Frequencies\")\n",
    "plt.xlabel(\"Element Frequencies (Logarithmic)\")\n",
    "plt.ylabel(\"Number of Elements with this Frequency\")\n",
    "xs = range(1, 8)\n",
    "plt.xticks(xs, [\"$10^{}$\".format(x) for x in xs])\n",
    "plt.ylim(0, 23)\n",
    "plt.show()"
   ]
  },
  {
   "cell_type": "markdown",
   "metadata": {
    "deletable": false
   },
   "source": [
    "## Full Table\n",
    "\n",
    "For those interested in finding a specific element, the full table is below."
   ]
  },
  {
   "cell_type": "code",
   "execution_count": 45,
   "metadata": {
    "deletable": false,
    "editable": false
   },
   "outputs": [
    {
     "data": {
      "text/html": [
       "<table border=\"1\" class=\"dataframe\">\n",
       "  <thead>\n",
       "    <tr style=\"text-align: right;\">\n",
       "      <th></th>\n",
       "      <th>Frequency</th>\n",
       "      <th>%</th>\n",
       "    </tr>\n",
       "  </thead>\n",
       "  <tbody>\n",
       "    <tr>\n",
       "      <th>Load</th>\n",
       "      <td>7862948</td>\n",
       "      <td>25.52</td>\n",
       "    </tr>\n",
       "    <tr>\n",
       "      <th>Name</th>\n",
       "      <td>5989398</td>\n",
       "      <td>19.44</td>\n",
       "    </tr>\n",
       "    <tr>\n",
       "      <th>Attribute</th>\n",
       "      <td>2393232</td>\n",
       "      <td>7.77</td>\n",
       "    </tr>\n",
       "    <tr>\n",
       "      <th>Call</th>\n",
       "      <td>1956344</td>\n",
       "      <td>6.35</td>\n",
       "    </tr>\n",
       "    <tr>\n",
       "      <th>Str</th>\n",
       "      <td>1811482</td>\n",
       "      <td>5.88</td>\n",
       "    </tr>\n",
       "    <tr>\n",
       "      <th>Store</th>\n",
       "      <td>1355253</td>\n",
       "      <td>4.40</td>\n",
       "    </tr>\n",
       "    <tr>\n",
       "      <th>Num</th>\n",
       "      <td>1207683</td>\n",
       "      <td>3.92</td>\n",
       "    </tr>\n",
       "    <tr>\n",
       "      <th>Assign</th>\n",
       "      <td>1071627</td>\n",
       "      <td>3.48</td>\n",
       "    </tr>\n",
       "    <tr>\n",
       "      <th>Expr</th>\n",
       "      <td>740525</td>\n",
       "      <td>2.40</td>\n",
       "    </tr>\n",
       "    <tr>\n",
       "      <th>arg</th>\n",
       "      <td>675312</td>\n",
       "      <td>2.19</td>\n",
       "    </tr>\n",
       "    <tr>\n",
       "      <th>keyword</th>\n",
       "      <td>499350</td>\n",
       "      <td>1.62</td>\n",
       "    </tr>\n",
       "    <tr>\n",
       "      <th>arguments</th>\n",
       "      <td>373028</td>\n",
       "      <td>1.21</td>\n",
       "    </tr>\n",
       "    <tr>\n",
       "      <th>NameConstant</th>\n",
       "      <td>363410</td>\n",
       "      <td>1.18</td>\n",
       "    </tr>\n",
       "    <tr>\n",
       "      <th>FunctionDef</th>\n",
       "      <td>360061</td>\n",
       "      <td>1.17</td>\n",
       "    </tr>\n",
       "    <tr>\n",
       "      <th>If</th>\n",
       "      <td>324776</td>\n",
       "      <td>1.05</td>\n",
       "    </tr>\n",
       "    <tr>\n",
       "      <th>Subscript</th>\n",
       "      <td>308271</td>\n",
       "      <td>1.00</td>\n",
       "    </tr>\n",
       "    <tr>\n",
       "      <th>Tuple</th>\n",
       "      <td>290435</td>\n",
       "      <td>0.94</td>\n",
       "    </tr>\n",
       "    <tr>\n",
       "      <th>Index</th>\n",
       "      <td>277841</td>\n",
       "      <td>0.90</td>\n",
       "    </tr>\n",
       "    <tr>\n",
       "      <th>Compare</th>\n",
       "      <td>261048</td>\n",
       "      <td>0.85</td>\n",
       "    </tr>\n",
       "    <tr>\n",
       "      <th>BinOp</th>\n",
       "      <td>239438</td>\n",
       "      <td>0.78</td>\n",
       "    </tr>\n",
       "    <tr>\n",
       "      <th>List</th>\n",
       "      <td>231749</td>\n",
       "      <td>0.75</td>\n",
       "    </tr>\n",
       "    <tr>\n",
       "      <th>alias</th>\n",
       "      <td>224548</td>\n",
       "      <td>0.73</td>\n",
       "    </tr>\n",
       "    <tr>\n",
       "      <th>Return</th>\n",
       "      <td>215966</td>\n",
       "      <td>0.70</td>\n",
       "    </tr>\n",
       "    <tr>\n",
       "      <th>UnaryOp</th>\n",
       "      <td>118028</td>\n",
       "      <td>0.38</td>\n",
       "    </tr>\n",
       "    <tr>\n",
       "      <th>ImportFrom</th>\n",
       "      <td>108928</td>\n",
       "      <td>0.35</td>\n",
       "    </tr>\n",
       "    <tr>\n",
       "      <th>Eq</th>\n",
       "      <td>99001</td>\n",
       "      <td>0.32</td>\n",
       "    </tr>\n",
       "    <tr>\n",
       "      <th>Add</th>\n",
       "      <td>95867</td>\n",
       "      <td>0.31</td>\n",
       "    </tr>\n",
       "    <tr>\n",
       "      <th>Dict</th>\n",
       "      <td>90542</td>\n",
       "      <td>0.29</td>\n",
       "    </tr>\n",
       "    <tr>\n",
       "      <th>Mod</th>\n",
       "      <td>70575</td>\n",
       "      <td>0.23</td>\n",
       "    </tr>\n",
       "    <tr>\n",
       "      <th>ClassDef</th>\n",
       "      <td>68255</td>\n",
       "      <td>0.22</td>\n",
       "    </tr>\n",
       "    <tr>\n",
       "      <th>For</th>\n",
       "      <td>68022</td>\n",
       "      <td>0.22</td>\n",
       "    </tr>\n",
       "    <tr>\n",
       "      <th>BoolOp</th>\n",
       "      <td>62813</td>\n",
       "      <td>0.20</td>\n",
       "    </tr>\n",
       "    <tr>\n",
       "      <th>Not</th>\n",
       "      <td>58603</td>\n",
       "      <td>0.19</td>\n",
       "    </tr>\n",
       "    <tr>\n",
       "      <th>USub</th>\n",
       "      <td>58041</td>\n",
       "      <td>0.19</td>\n",
       "    </tr>\n",
       "    <tr>\n",
       "      <th>Import</th>\n",
       "      <td>50341</td>\n",
       "      <td>0.16</td>\n",
       "    </tr>\n",
       "    <tr>\n",
       "      <th>Raise</th>\n",
       "      <td>47169</td>\n",
       "      <td>0.15</td>\n",
       "    </tr>\n",
       "    <tr>\n",
       "      <th>Try</th>\n",
       "      <td>41169</td>\n",
       "      <td>0.13</td>\n",
       "    </tr>\n",
       "    <tr>\n",
       "      <th>Assert</th>\n",
       "      <td>41076</td>\n",
       "      <td>0.13</td>\n",
       "    </tr>\n",
       "    <tr>\n",
       "      <th>ExceptHandler</th>\n",
       "      <td>39788</td>\n",
       "      <td>0.13</td>\n",
       "    </tr>\n",
       "    <tr>\n",
       "      <th>Slice</th>\n",
       "      <td>38624</td>\n",
       "      <td>0.13</td>\n",
       "    </tr>\n",
       "    <tr>\n",
       "      <th>And</th>\n",
       "      <td>37663</td>\n",
       "      <td>0.12</td>\n",
       "    </tr>\n",
       "    <tr>\n",
       "      <th>Mult</th>\n",
       "      <td>37077</td>\n",
       "      <td>0.12</td>\n",
       "    </tr>\n",
       "    <tr>\n",
       "      <th>Is</th>\n",
       "      <td>35281</td>\n",
       "      <td>0.11</td>\n",
       "    </tr>\n",
       "    <tr>\n",
       "      <th>Bytes</th>\n",
       "      <td>34287</td>\n",
       "      <td>0.11</td>\n",
       "    </tr>\n",
       "    <tr>\n",
       "      <th>In</th>\n",
       "      <td>33020</td>\n",
       "      <td>0.11</td>\n",
       "    </tr>\n",
       "    <tr>\n",
       "      <th>Sub</th>\n",
       "      <td>28297</td>\n",
       "      <td>0.09</td>\n",
       "    </tr>\n",
       "    <tr>\n",
       "      <th>Module</th>\n",
       "      <td>26843</td>\n",
       "      <td>0.09</td>\n",
       "    </tr>\n",
       "    <tr>\n",
       "      <th>comprehension</th>\n",
       "      <td>26811</td>\n",
       "      <td>0.09</td>\n",
       "    </tr>\n",
       "    <tr>\n",
       "      <th>IsNot</th>\n",
       "      <td>26654</td>\n",
       "      <td>0.09</td>\n",
       "    </tr>\n",
       "    <tr>\n",
       "      <th>AugAssign</th>\n",
       "      <td>25601</td>\n",
       "      <td>0.08</td>\n",
       "    </tr>\n",
       "    <tr>\n",
       "      <th>Or</th>\n",
       "      <td>25150</td>\n",
       "      <td>0.08</td>\n",
       "    </tr>\n",
       "    <tr>\n",
       "      <th>Pass</th>\n",
       "      <td>22781</td>\n",
       "      <td>0.07</td>\n",
       "    </tr>\n",
       "    <tr>\n",
       "      <th>withitem</th>\n",
       "      <td>20764</td>\n",
       "      <td>0.07</td>\n",
       "    </tr>\n",
       "    <tr>\n",
       "      <th>With</th>\n",
       "      <td>20550</td>\n",
       "      <td>0.07</td>\n",
       "    </tr>\n",
       "    <tr>\n",
       "      <th>NotEq</th>\n",
       "      <td>19295</td>\n",
       "      <td>0.06</td>\n",
       "    </tr>\n",
       "    <tr>\n",
       "      <th>ListComp</th>\n",
       "      <td>17479</td>\n",
       "      <td>0.06</td>\n",
       "    </tr>\n",
       "    <tr>\n",
       "      <th>Gt</th>\n",
       "      <td>13435</td>\n",
       "      <td>0.04</td>\n",
       "    </tr>\n",
       "    <tr>\n",
       "      <th>Div</th>\n",
       "      <td>12945</td>\n",
       "      <td>0.04</td>\n",
       "    </tr>\n",
       "    <tr>\n",
       "      <th>Lambda</th>\n",
       "      <td>12831</td>\n",
       "      <td>0.04</td>\n",
       "    </tr>\n",
       "    <tr>\n",
       "      <th>Lt</th>\n",
       "      <td>12305</td>\n",
       "      <td>0.04</td>\n",
       "    </tr>\n",
       "    <tr>\n",
       "      <th>NotIn</th>\n",
       "      <td>11867</td>\n",
       "      <td>0.04</td>\n",
       "    </tr>\n",
       "    <tr>\n",
       "      <th>Starred</th>\n",
       "      <td>11299</td>\n",
       "      <td>0.04</td>\n",
       "    </tr>\n",
       "    <tr>\n",
       "      <th>Yield</th>\n",
       "      <td>8603</td>\n",
       "      <td>0.03</td>\n",
       "    </tr>\n",
       "    <tr>\n",
       "      <th>IfExp</th>\n",
       "      <td>8094</td>\n",
       "      <td>0.03</td>\n",
       "    </tr>\n",
       "    <tr>\n",
       "      <th>Continue</th>\n",
       "      <td>8051</td>\n",
       "      <td>0.03</td>\n",
       "    </tr>\n",
       "    <tr>\n",
       "      <th>GeneratorExp</th>\n",
       "      <td>7795</td>\n",
       "      <td>0.03</td>\n",
       "    </tr>\n",
       "    <tr>\n",
       "      <th>While</th>\n",
       "      <td>7110</td>\n",
       "      <td>0.02</td>\n",
       "    </tr>\n",
       "    <tr>\n",
       "      <th>ExtSlice</th>\n",
       "      <td>7100</td>\n",
       "      <td>0.02</td>\n",
       "    </tr>\n",
       "    <tr>\n",
       "      <th>GtE</th>\n",
       "      <td>6370</td>\n",
       "      <td>0.02</td>\n",
       "    </tr>\n",
       "    <tr>\n",
       "      <th>Break</th>\n",
       "      <td>6190</td>\n",
       "      <td>0.02</td>\n",
       "    </tr>\n",
       "    <tr>\n",
       "      <th>Del</th>\n",
       "      <td>6183</td>\n",
       "      <td>0.02</td>\n",
       "    </tr>\n",
       "    <tr>\n",
       "      <th>LtE</th>\n",
       "      <td>5845</td>\n",
       "      <td>0.02</td>\n",
       "    </tr>\n",
       "    <tr>\n",
       "      <th>Delete</th>\n",
       "      <td>5780</td>\n",
       "      <td>0.02</td>\n",
       "    </tr>\n",
       "    <tr>\n",
       "      <th>Pow</th>\n",
       "      <td>5473</td>\n",
       "      <td>0.02</td>\n",
       "    </tr>\n",
       "    <tr>\n",
       "      <th>BitAnd</th>\n",
       "      <td>4583</td>\n",
       "      <td>0.01</td>\n",
       "    </tr>\n",
       "    <tr>\n",
       "      <th>BitOr</th>\n",
       "      <td>4304</td>\n",
       "      <td>0.01</td>\n",
       "    </tr>\n",
       "    <tr>\n",
       "      <th>FloorDiv</th>\n",
       "      <td>1971</td>\n",
       "      <td>0.01</td>\n",
       "    </tr>\n",
       "    <tr>\n",
       "      <th>LShift</th>\n",
       "      <td>1609</td>\n",
       "      <td>0.01</td>\n",
       "    </tr>\n",
       "    <tr>\n",
       "      <th>RShift</th>\n",
       "      <td>1283</td>\n",
       "      <td>0.00</td>\n",
       "    </tr>\n",
       "    <tr>\n",
       "      <th>Global</th>\n",
       "      <td>1200</td>\n",
       "      <td>0.00</td>\n",
       "    </tr>\n",
       "    <tr>\n",
       "      <th>Set</th>\n",
       "      <td>1161</td>\n",
       "      <td>0.00</td>\n",
       "    </tr>\n",
       "    <tr>\n",
       "      <th>BitXor</th>\n",
       "      <td>1055</td>\n",
       "      <td>0.00</td>\n",
       "    </tr>\n",
       "    <tr>\n",
       "      <th>Invert</th>\n",
       "      <td>1010</td>\n",
       "      <td>0.00</td>\n",
       "    </tr>\n",
       "    <tr>\n",
       "      <th>DictComp</th>\n",
       "      <td>777</td>\n",
       "      <td>0.00</td>\n",
       "    </tr>\n",
       "    <tr>\n",
       "      <th>Ellipsis</th>\n",
       "      <td>600</td>\n",
       "      <td>0.00</td>\n",
       "    </tr>\n",
       "    <tr>\n",
       "      <th>UAdd</th>\n",
       "      <td>374</td>\n",
       "      <td>0.00</td>\n",
       "    </tr>\n",
       "    <tr>\n",
       "      <th>SetComp</th>\n",
       "      <td>321</td>\n",
       "      <td>0.00</td>\n",
       "    </tr>\n",
       "    <tr>\n",
       "      <th>YieldFrom</th>\n",
       "      <td>187</td>\n",
       "      <td>0.00</td>\n",
       "    </tr>\n",
       "    <tr>\n",
       "      <th>Await</th>\n",
       "      <td>180</td>\n",
       "      <td>0.00</td>\n",
       "    </tr>\n",
       "    <tr>\n",
       "      <th>AsyncFunctionDef</th>\n",
       "      <td>136</td>\n",
       "      <td>0.00</td>\n",
       "    </tr>\n",
       "    <tr>\n",
       "      <th>Nonlocal</th>\n",
       "      <td>54</td>\n",
       "      <td>0.00</td>\n",
       "    </tr>\n",
       "    <tr>\n",
       "      <th>AsyncFor</th>\n",
       "      <td>13</td>\n",
       "      <td>0.00</td>\n",
       "    </tr>\n",
       "    <tr>\n",
       "      <th>AsyncWith</th>\n",
       "      <td>10</td>\n",
       "      <td>0.00</td>\n",
       "    </tr>\n",
       "  </tbody>\n",
       "</table>"
      ],
      "text/plain": [
       "<IPython.core.display.HTML object>"
      ]
     },
     "metadata": {},
     "output_type": "display_data"
    }
   ],
   "source": [
    "from IPython.core.display import HTML\n",
    "display(HTML(df.to_html()))"
   ]
  }
 ],
 "metadata": {
  "kernelspec": {
   "display_name": "Python [conda env:Anaconda3]",
   "language": "python",
   "name": "conda-env-Anaconda3-py"
  },
  "language_info": {
   "codemirror_mode": {
    "name": "ipython",
    "version": 3
   },
   "file_extension": ".py",
   "mimetype": "text/x-python",
   "name": "python",
   "nbconvert_exporter": "python",
   "pygments_lexer": "ipython3",
   "version": "3.5.4"
  },
  "student_mode": false
 },
 "nbformat": 4,
 "nbformat_minor": 2
}
